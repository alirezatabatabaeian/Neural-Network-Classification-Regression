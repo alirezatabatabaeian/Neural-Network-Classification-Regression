{
  "nbformat": 4,
  "nbformat_minor": 0,
  "metadata": {
    "colab": {
      "provenance": []
    },
    "kernelspec": {
      "name": "python3",
      "display_name": "Python 3"
    },
    "language_info": {
      "name": "python"
    }
  },
  "cells": [
    {
      "cell_type": "code",
      "execution_count": null,
      "metadata": {
        "id": "edSyN_DGfcT6"
      },
      "outputs": [],
      "source": [
        "#Importing Libraries------------------------------------------------------------------------------------------------------------------\n",
        "\n",
        "from sklearn.neural_network import MLPClassifier , MLPRegressor # MLPClassifier & MLPRegressor : for Classification & Regression\n",
        "\n",
        "from sklearn.model_selection import train_test_split # train_test_split : to split data into two parts(Train & Valid)\n",
        "\n",
        "from pandas import read_excel , concat , DataFrame # read_excel : importing excel files / concat : for repeating and concatenate data /\n",
        "\n",
        "from sklearn.preprocessing import StandardScaler # StandardScaler : for preprocessing like making a (zero mean & one STD) samples\n",
        "\n",
        "from sklearn.metrics import mean_squared_error , confusion_matrix # mean_squared_error & confusion_matrix : to calculate MSE & confusion matrix\n",
        "\n",
        "from sklearn.utils import shuffle # Shuffle : to shuffle data for mixing ones and zeros\n",
        "\n",
        "from matplotlib import pyplot # pyplot : for Plotting\n"
      ]
    },
    {
      "cell_type": "code",
      "source": [
        "#Reading Data-------------------------------------------------------------------------------------------------------------------------\n",
        "\n",
        "Data   = read_excel( r'/content/traindataset_for_intro_to_ml.xlsx' ).iloc[:,1:9] # Read All Data #(Make Sure you have uploaded your data)\n",
        "\n",
        "Input  = Data.iloc[:,0:6] # Define Input Data\n",
        "\n",
        "Output = Data.iloc[:,6:8] # Define Output Data\n"
      ],
      "metadata": {
        "id": "ite-mgTZzQGl"
      },
      "execution_count": null,
      "outputs": []
    },
    {
      "cell_type": "code",
      "source": [
        "#Calculating The number of Data in each Range-----------------------------------------------------------------------------------------\n",
        "\n",
        "#Outcome_Ones  = 0\n",
        "#Outcome_Zeros = 0\n",
        "#less_10 = 0\n",
        "#less_20 = 0\n",
        "#less_30 = 0\n",
        "#less_40 = 0\n",
        "#less_50 = 0\n",
        "#less_60 = 0\n",
        "#less_70 = 0\n",
        "#less_80 = 0\n",
        "#less_90 = 0\n",
        "#less_100 = 0\n",
        "\n",
        "#for i in range(len(Output)) :\n",
        "    #Start------------------------------------\n",
        " #   if Output.Outcome[i] == 1 :\n",
        " #      Outcome_Ones  += 1 \n",
        " #   elif Output.Outcome[i] == 0 :\n",
        " #     Outcome_Zeros += 1\n",
        "    #-----------------------------------------\n",
        " #   if Output.values[i,0] <= 10 :\n",
        " #      less_10 += 1 \n",
        " #   if Output.values[i,0] <= 20 :\n",
        " #      less_20 += 1\n",
        " #   if Output.values[i,0] <= 30 :\n",
        " #      less_30 += 1\n",
        " #   if Output.values[i,0] <= 40 :\n",
        " #      less_40 += 1\n",
        " #   if Output.values[i,0] <= 50 :\n",
        " #      less_50 += 1\n",
        " #   if Output.values[i,0] <= 60 :\n",
        " #      less_60 += 1\n",
        " #   if Output.values[i,0] <= 70 :\n",
        " #      less_70 += 1\n",
        " #   if Output.values[i,0] <= 80 :\n",
        " #      less_80 += 1\n",
        " #   if Output.values[i,0] <= 90 :\n",
        " #      less_90 += 1\n",
        " #  if Output.values[i,0] <= 100 :\n",
        " #      less_100 += 1\n",
        "    #End--------------------------------------\n",
        "\n",
        "#Btwn_0_to_10   = less_10\n",
        "#Btwn_10_to_20  = less_20 -  less_10\n",
        "#Btwn_20_to_30  = less_30 -  less_20\n",
        "#Btwn_30_to_40  = less_40 -  less_30\n",
        "#Btwn_40_to_50  = less_50 -  less_40\n",
        "#Btwn_50_to_60  = less_60 -  less_50\n",
        "#Btwn_60_to_70  = less_70 -  less_60\n",
        "#Btwn_70_to_80  = less_80 -  less_70\n",
        "#Btwn_80_to_90  = less_90 -  less_80\n",
        "#Btwn_90_to_100 = less_100 - less_90\n",
        "\n",
        "#print(Btwn_0_to_10)   # No Data\n",
        "#print(Btwn_10_to_20)  # Low Data\n",
        "#print(Btwn_20_to_30)  # Enough Data\n",
        "#print(Btwn_30_to_40)  # Enough Data\n",
        "#print(Btwn_40_to_50)  # Enough Data\n",
        "#print(Btwn_50_to_60)  # Low Data\n",
        "#print(Btwn_60_to_70)  # No Data\n",
        "#print(Btwn_70_to_80)  # No Data\n",
        "#print(Btwn_80_to_90)  # No Data\n",
        "#print(Btwn_90_to_100) # No Data\n",
        "\n",
        "# So we need to 3X Data between 10 to 20 & 50 to 60\n"
      ],
      "metadata": {
        "id": "69NkbUHdzaIX"
      },
      "execution_count": null,
      "outputs": []
    },
    {
      "cell_type": "code",
      "source": [
        "#PreProcessing------------------------------------------------------------------------------------------------------------------------\n",
        "\n",
        "temp1   = Data [ 10 < Data['Twoyears.follow_up.Cobb'] ]\n",
        "temp1   = temp1[ temp1['Twoyears.follow_up.Cobb'] <= 20 ] # Find Data between (10,20]\n",
        "\n",
        "temp2   = Data [ 50 < Data['Twoyears.follow_up.Cobb'] ]\n",
        "temp2   = temp2[ temp2['Twoyears.follow_up.Cobb'] <= 60 ] # Find Data between (50,60]\n",
        "\n",
        "for i in range(3) : # Repeat the above samples 3 times for each temp1 & temp2\n",
        "    Data  = concat([Data, temp1])\n",
        "    Data  = concat([Data, temp2])\n",
        "\n",
        "for i in range(200): # Shuffle the data many time to make sure they've got mixed\n",
        "  Data = shuffle(Data)\n",
        "\n",
        "Input = Data.iloc[:,0:6] # Define Input Data\n",
        "Output = Data.iloc[:,6:8] # Define Output Data\n"
      ],
      "metadata": {
        "id": "gpX-qZYR4TLV"
      },
      "execution_count": null,
      "outputs": []
    },
    {
      "cell_type": "code",
      "source": [
        "#Validation---------------------------------------------------------------------------------------------------------------------------\n",
        "\n",
        "[ Input_Train , Input_Valid , Output_Train , Output_Valid ] = train_test_split( Input , Output , test_size= 0.1 ) # Normal Validation(10 percent of the concatenated data)\n"
      ],
      "metadata": {
        "id": "56oP-Hxuzf-b"
      },
      "execution_count": null,
      "outputs": []
    },
    {
      "cell_type": "code",
      "source": [
        "# For Test , Run This Section--------------------------------------------------------------------------------------------------------\n",
        "\n",
        "#Input_Train  = Input\n",
        "#Output_Train = Output\n",
        "#Test_Data    = read_excel( r'/content/YourFileName' ).iloc[:,1:9] # Put your filename on designated place\n",
        "#Input_Valid  = Test_Data.iloc[:,0:6]\n",
        "#Output_Valid = Test_Data.iloc[:,6:8]\n"
      ],
      "metadata": {
        "id": "wZGdJ59Azgxo"
      },
      "execution_count": null,
      "outputs": []
    },
    {
      "cell_type": "code",
      "source": [
        "#PreProcessing(Normalization : Zero-Mean & One-STD)-----------------------------------------------------------------------------------\n",
        "\n",
        "Scaler  = StandardScaler().fit(Input_Train.values) # Find Mean & Standard Deviation of the Train Data\n",
        "Input_Train = Scaler.transform(Input_Train.values) # Normalize the Train Data using previous mean & STD \n",
        "Input_Valid = Scaler.transform(Input_Valid.values) # Normalize the Valid Data using previous mean & STD \n"
      ],
      "metadata": {
        "id": "RS_9xrm-zgzw"
      },
      "execution_count": null,
      "outputs": []
    },
    {
      "cell_type": "code",
      "source": [
        "#Model---------------------------------------------------------------------------------------------------------------------------------\n",
        "\n",
        "Classifier = MLPClassifier( hidden_layer_sizes=(64) ,activation = 'logistic', solver = 'lbfgs' , learning_rate = 'adaptive' , max_iter = 2000 , early_stopping = True , validation_fraction = 0.15 , n_iter_no_change = 32)\n",
        "# Define our model with defined parameters\n",
        "Regressor  = MLPRegressor ( hidden_layer_sizes=(64,32) , solver = 'adam' , learning_rate = 'adaptive' , max_iter = 2000 , early_stopping = True , validation_fraction = 0.15 , n_iter_no_change = 32) \n",
        "# Define our model with defined parameters\n",
        "Classifier.fit( Input_Train , Output_Train.iloc[:,1] ) # fit the model\n",
        "\n",
        "Regressor.fit(Input_Train , Output_Train.iloc[:,0] ) # fit the model\n",
        "\n",
        "Model_Output_Valid = Classifier.predict( Input_Valid ) # predict using the model(Valid-Classification)\n",
        "\n",
        "Model_Output_Train = Classifier.predict( Input_Train ) # predict using the model(Train-Classification)\n",
        "\n",
        "DataFrame(Regressor.loss_curve_).plot() ; pyplot.title(\"Loss Function\") ; pyplot.ylabel(\"Loss\") ; pyplot.xlabel(\"Epochs\") ; # Plot Loss Function\n"
      ],
      "metadata": {
        "id": "LHhIHCY8zg3O",
        "colab": {
          "base_uri": "https://localhost:8080/",
          "height": 295
        },
        "outputId": "ff72cc80-372b-4e46-cfb9-da4880ab2787"
      },
      "execution_count": null,
      "outputs": [
        {
          "output_type": "display_data",
          "data": {
            "image/png": "[encoded data removed]",
            "text/plain": [
              "<Figure size 432x288 with 1 Axes>"
            ]
          },
          "metadata": {
            "needs_background": "light"
          }
        }
      ]
    },
    {
      "cell_type": "code",
      "source": [
        "#Accuracy & Confusion Matrix For Train Data------------------------------------------------------------------------------------------------\n",
        "\n",
        "Classifier_Score_Train = Classifier.score( Input_Train , Output_Train.iloc[:,1] ) # Accuracy on Train Classifier\n",
        "\n",
        "Regressor_Score_Train  = Regressor.score( Input_Train , Output_Train.iloc[:,0] ) # Accuracy on Train Regressor\n",
        "\n",
        "Regressor_MSE_Train = mean_squared_error( Output_Train.iloc[:,0] , Regressor.predict( Input_Train ) ) # Mean Square Error Train Data\n",
        "\n",
        "Confusion_Matrix_Train =  confusion_matrix( Output_Train.iloc[:,1] , Model_Output_Train ) # Confusion Matrix of Train Data\n",
        "\n",
        "print(\"Classifier Accuracy on Train Data :\" , Classifier_Score_Train , '\\n')\n",
        "print(\"Regressor Accuracy on Train Data :\" , Regressor_Score_Train , '\\n')\n",
        "print(\"Regressor MSE on Train Data :\" , Regressor_MSE_Train , '\\n')\n",
        "print(\"Confusion Matrix on Train Data : \\n\\n\" , Confusion_Matrix_Train , '\\n')\n"
      ],
      "metadata": {
        "id": "nsYzpDkx1ybm",
        "colab": {
          "base_uri": "https://localhost:8080/"
        },
        "outputId": "c6a578d4-1dae-484a-bf3d-651c75cf0a1f"
      },
      "execution_count": null,
      "outputs": [
        {
          "output_type": "stream",
          "name": "stdout",
          "text": [
            "Classifier Accuracy on Train Data : 1.0 \n",
            "\n",
            "Regressor Accuracy on Train Data : 0.9189239865396285 \n",
            "\n",
            "Regressor MSE on Train Data : 15.635958687505077 \n",
            "\n",
            "Confusion Matrix on Train Data : \n",
            "\n",
            " [[104   0]\n",
            " [  0  28]] \n",
            "\n"
          ]
        }
      ]
    },
    {
      "cell_type": "code",
      "source": [
        "#Accuracy & Confusion Matrix For Valid Data------------------------------------------------------------------------------------------------\n",
        "\n",
        "Classifier_Score_Valid = Classifier.score( Input_Valid , Output_Valid.iloc[:,1] ) # Accuracy on Valid Classifier\n",
        "\n",
        "Regressor_Score_Valid  = Regressor.score( Input_Valid , Output_Valid.iloc[:,0] ) # Accuracy on Valid Regressor\n",
        "\n",
        "Regressor_MSE_Valid = mean_squared_error( Output_Valid.iloc[:,0] , Regressor.predict( Input_Valid ) ) # Mean Square Error Valid Data\n",
        "\n",
        "Confusion_Matrix_Valid =  confusion_matrix( Output_Valid.iloc[:,1] , Model_Output_Valid ) # Confusion Matrix of Valid Data\n",
        "\n",
        "print(\"Classifier Accuracy on Test Data :\" , Classifier_Score_Valid , '\\n')\n",
        "print(\"Regressor Accuracy on Test Data :\" , Regressor_Score_Valid , '\\n')\n",
        "print(\"Regressor MSE on Test Data :\" , Regressor_MSE_Valid , '\\n')\n",
        "print(\"Confusion Matrix on Test Data : \\n\\n\" , Confusion_Matrix_Valid , '\\n')\n"
      ],
      "metadata": {
        "id": "EdbEeqvPI00S",
        "colab": {
          "base_uri": "https://localhost:8080/"
        },
        "outputId": "41f3866e-f5f1-432e-9962-966e3bfbe4db"
      },
      "execution_count": null,
      "outputs": [
        {
          "output_type": "stream",
          "name": "stdout",
          "text": [
            "Classifier Accuracy on Test Data : 1.0 \n",
            "\n",
            "Regressor Accuracy on Test Data : 0.9210348380677759 \n",
            "\n",
            "Regressor MSE on Test Data : 13.603065228857812 \n",
            "\n",
            "Confusion Matrix on Test Data : \n",
            "\n",
            " [[11  0]\n",
            " [ 0  4]] \n",
            "\n"
          ]
        }
      ]
    }
  ]
}